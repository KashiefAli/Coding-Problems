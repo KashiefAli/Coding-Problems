{
 "cells": [
  {
   "cell_type": "code",
   "execution_count": 46,
   "id": "2d0338b6",
   "metadata": {},
   "outputs": [],
   "source": [
    "def romanToInt(s):\n",
    "    x = [y for y in s]\n",
    "    for i in range(len(x)):\n",
    "        if x[i] == 'I':\n",
    "            x[i] = 1\n",
    "        elif x[i] == 'V':\n",
    "            x[i] = 5\n",
    "        elif x[i] == 'X':\n",
    "            x[i] = 10\n",
    "        elif x[i] == 'L':\n",
    "            x[i] = 50\n",
    "        elif x[i] == 'C':\n",
    "            x[i] = 100\n",
    "        elif x[i] == 'D':\n",
    "            x[i] = 500\n",
    "        elif x[i] == 'M':\n",
    "            x[i] = 1000\n",
    "    z = list(zip(x, x[1:]))\n",
    "    for i in range(len(z)):\n",
    "        if z[i] == (1,5) or z[i] == (1,10):\n",
    "            x[i] = -1\n",
    "        elif z[i] == (10,50) or z[i] == (10,100):\n",
    "            x[i] = -10\n",
    "        elif z[i] == (100,500) or z[i] == (100,1000):\n",
    "            x[i] = -100\n",
    "    return sum(x)"
   ]
  },
  {
   "cell_type": "code",
   "execution_count": 47,
   "id": "a21ad477",
   "metadata": {},
   "outputs": [
    {
     "data": {
      "text/plain": [
       "1994"
      ]
     },
     "execution_count": 47,
     "metadata": {},
     "output_type": "execute_result"
    }
   ],
   "source": [
    "romanToInt('MCMXCIV')"
   ]
  },
  {
   "cell_type": "code",
   "execution_count": null,
   "id": "f276b685",
   "metadata": {},
   "outputs": [],
   "source": []
  }
 ],
 "metadata": {
  "kernelspec": {
   "display_name": "Python 3 (ipykernel)",
   "language": "python",
   "name": "python3"
  },
  "language_info": {
   "codemirror_mode": {
    "name": "ipython",
    "version": 3
   },
   "file_extension": ".py",
   "mimetype": "text/x-python",
   "name": "python",
   "nbconvert_exporter": "python",
   "pygments_lexer": "ipython3",
   "version": "3.9.5"
  }
 },
 "nbformat": 4,
 "nbformat_minor": 5
}
