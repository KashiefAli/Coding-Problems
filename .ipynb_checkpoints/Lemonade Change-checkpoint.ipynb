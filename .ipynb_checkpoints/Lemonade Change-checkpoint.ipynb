{
 "cells": [
  {
   "cell_type": "markdown",
   "id": "8dcc551f",
   "metadata": {},
   "source": [
    "At a lemonade stand, each lemonade costs £5. Customers are standing in a queue to buy from you and order one at a time (in the order specified by bills). Each customer will only buy one lemonade and pay with either a £5, £10, or £20 bill. You must provide the correct change to each customer so that the net transaction is that the customer pays £5.\n",
    "\n",
    "Note that you do not have any change in hand at first.\n",
    "\n",
    "Given an integer array bills where bills[i] is the bill the ith customer pays, return true if you can provide every customer with the correct change, or false otherwise."
   ]
  },
  {
   "cell_type": "code",
   "execution_count": 127,
   "id": "843fe329",
   "metadata": {},
   "outputs": [],
   "source": [
    "def lemonadeChange(bills):\n",
    "    new_bill = []\n",
    "    try:\n",
    "        for bill in bills:\n",
    "            if bill == 5:\n",
    "                new_bill.append(bill)\n",
    "            elif bill == 10:\n",
    "                new_bill.remove(5)\n",
    "                new_bill.append(10)\n",
    "            else:\n",
    "                if ((new_bill.count(5) >= 1) & (new_bill.count(10) >= 1)) :\n",
    "                    new_bill.remove(5) \n",
    "                    new_bill.remove(10)\n",
    "                elif (new_bill.count(5) >= 3):\n",
    "                    new_bill.remove(5) \n",
    "                    new_bill.remove(5) \n",
    "                    new_bill.remove(5)\n",
    "                else:\n",
    "                    return False\n",
    "        return True\n",
    "    except: \n",
    "        return False\n",
    "                    "
   ]
  },
  {
   "cell_type": "code",
   "execution_count": 128,
   "id": "035a1c53",
   "metadata": {},
   "outputs": [
    {
     "data": {
      "text/plain": [
       "True"
      ]
     },
     "execution_count": 128,
     "metadata": {},
     "output_type": "execute_result"
    }
   ],
   "source": [
    "a = [5,5,5,10,20]\n",
    "lemonadeChange(a)"
   ]
  },
  {
   "cell_type": "markdown",
   "id": "0a0a1f15",
   "metadata": {},
   "source": [
    "Official Solution:"
   ]
  },
  {
   "cell_type": "code",
   "execution_count": null,
   "id": "0c8b2e0c",
   "metadata": {},
   "outputs": [],
   "source": [
    "def lemonadeChange(bills):\n",
    "    five = ten = 0\n",
    "    for bill in bills:\n",
    "        if bill == 5:\n",
    "            five += 1\n",
    "        elif bill == 10:\n",
    "            if not five: return False\n",
    "            five -= 1\n",
    "            ten += 1\n",
    "        else:\n",
    "            if ten and five:\n",
    "                ten -= 1\n",
    "                five -= 1\n",
    "            elif five >= 3:\n",
    "                five -= 3\n",
    "            else:\n",
    "                return False\n",
    "    return True"
   ]
  }
 ],
 "metadata": {
  "kernelspec": {
   "display_name": "Python 3 (ipykernel)",
   "language": "python",
   "name": "python3"
  },
  "language_info": {
   "codemirror_mode": {
    "name": "ipython",
    "version": 3
   },
   "file_extension": ".py",
   "mimetype": "text/x-python",
   "name": "python",
   "nbconvert_exporter": "python",
   "pygments_lexer": "ipython3",
   "version": "3.9.5"
  }
 },
 "nbformat": 4,
 "nbformat_minor": 5
}
